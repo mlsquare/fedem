{
 "cells": [
  {
   "cell_type": "code",
   "execution_count": null,
   "id": "0",
   "metadata": {},
   "outputs": [],
   "source": [
    "from transformers import AutoTokenizer\n",
    "\n",
    "tokenizer = AutoTokenizer.from_pretrained(\"google/byt5-small\")"
   ]
  },
  {
   "cell_type": "code",
   "execution_count": null,
   "id": "1",
   "metadata": {},
   "outputs": [],
   "source": [
    "input_ids_prompt = \"The dog chases a ball in the park.\"\n",
    "input_ids = tokenizer(input_ids_prompt).input_ids"
   ]
  },
  {
   "cell_type": "code",
   "execution_count": null,
   "id": "2",
   "metadata": {},
   "outputs": [],
   "source": [
    "print(input_ids)"
   ]
  },
  {
   "cell_type": "code",
   "execution_count": null,
   "id": "3",
   "metadata": {},
   "outputs": [],
   "source": [
    "output_string = tokenizer.decode(input_ids)"
   ]
  },
  {
   "cell_type": "code",
   "execution_count": null,
   "id": "4",
   "metadata": {},
   "outputs": [],
   "source": [
    "print(output_string)"
   ]
  },
  {
   "cell_type": "code",
   "execution_count": null,
   "id": "5",
   "metadata": {},
   "outputs": [],
   "source": [
    "input_ids_prompt = \"తేలికగా తెలుగులో\"\n",
    "input_ids = tokenizer(input_ids_prompt).input_ids\n",
    "print(input_ids)\n",
    "output_string = tokenizer.decode(input_ids)\n",
    "print(\"decoded string\", output_string)"
   ]
  },
  {
   "cell_type": "code",
   "execution_count": null,
   "id": "6",
   "metadata": {},
   "outputs": [],
   "source": [
    "tokenizer.vocab_size"
   ]
  },
  {
   "cell_type": "code",
   "execution_count": null,
   "id": "7",
   "metadata": {},
   "outputs": [],
   "source": [
    "tokenizer = AutoTokenizer.from_pretrained(\"google/mt5-small\")"
   ]
  },
  {
   "cell_type": "code",
   "execution_count": null,
   "id": "8",
   "metadata": {},
   "outputs": [],
   "source": [
    "print(\"vocab size\", tokenizer.vocab_size)\n",
    "input_ids_prompt = \"తేలికగా తెలుగులో\"\n",
    "input_ids = tokenizer(input_ids_prompt).input_ids\n",
    "print(input_ids)\n",
    "output_string = tokenizer.decode(input_ids)\n",
    "print(\"decoded string\", output_string)"
   ]
  },
  {
   "cell_type": "code",
   "execution_count": null,
   "id": "9",
   "metadata": {},
   "outputs": [],
   "source": [
    "tokenizer = AutoTokenizer.from_pretrained(\"google/byt5-large\")\n",
    "print(\"vocab size\", tokenizer.vocab_size)\n",
    "input_ids_prompt = \"తేలికగా తెలుగులో\"\n",
    "input_ids = tokenizer(input_ids_prompt).input_ids\n",
    "print(input_ids)\n",
    "output_string = tokenizer.decode(input_ids)\n",
    "print(\"decoded string\", output_string)"
   ]
  },
  {
   "cell_type": "code",
   "execution_count": null,
   "id": "10",
   "metadata": {},
   "outputs": [],
   "source": [
    "print(tokenizer.decode(input_ids))"
   ]
  },
  {
   "cell_type": "code",
   "execution_count": null,
   "id": "11",
   "metadata": {},
   "outputs": [],
   "source": [
    "len(input_ids)"
   ]
  },
  {
   "cell_type": "code",
   "execution_count": null,
   "id": "12",
   "metadata": {},
   "outputs": [],
   "source": [
    "input_ids_prompt = \"ତୁମର ନାମ କଣ\"\n",
    "input_ids = tokenizer(input_ids_prompt).input_ids\n",
    "print(input_ids)\n",
    "output_string = tokenizer.decode(input_ids)\n",
    "print(\"decoded string\", output_string)\n",
    "print(len(input_ids))"
   ]
  },
  {
   "cell_type": "code",
   "execution_count": null,
   "id": "13",
   "metadata": {},
   "outputs": [],
   "source": []
  }
 ],
 "metadata": {
  "kernelspec": {
   "display_name": "shane",
   "language": "python",
   "name": "shane"
  }
 },
 "nbformat": 4,
 "nbformat_minor": 5
}
