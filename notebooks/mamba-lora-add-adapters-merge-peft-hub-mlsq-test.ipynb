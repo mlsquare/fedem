{
 "cells": [
  {
   "cell_type": "markdown",
   "id": "0",
   "metadata": {},
   "source": [
    "### Load Pretrained Model\n",
    "Load a pretrained Mamba Model that is compatible with Transformers Library"
   ]
  },
  {
   "cell_type": "code",
   "execution_count": null,
   "id": "1",
   "metadata": {},
   "outputs": [],
   "source": [
    "from modeling_mamba import MambaForCausalLM\n",
    "from transformers import AutoTokenizer\n",
    "\n",
    "model = MambaForCausalLM.from_pretrained(\"Q-bert/Mamba-130M\")\n",
    "tokenizer = AutoTokenizer.from_pretrained(\"Q-bert/Mamba-130M\")\n",
    "\n",
    "text = \"Hi\"\n",
    "\n",
    "input_ids = tokenizer.encode(text, return_tensors=\"pt\")\n",
    "\n",
    "output = model.generate(input_ids, max_length=20, num_beams=5, no_repeat_ngram_size=2)\n",
    "\n",
    "generated_text = tokenizer.decode(output[0], skip_special_tokens=True)\n",
    "\n",
    "print(generated_text)"
   ]
  },
  {
   "cell_type": "code",
   "execution_count": null,
   "id": "2",
   "metadata": {},
   "outputs": [],
   "source": [
    "print(type(model))\n",
    "\n",
    "\n",
    "def print_trainable_parameters(model):\n",
    "    \"\"\"\n",
    "    Prints the number of trainable parameters in the model.\n",
    "    \"\"\"\n",
    "    trainable_params = 0\n",
    "    all_param = 0\n",
    "    for _, param in model.named_parameters():\n",
    "        all_param += param.numel()\n",
    "        if param.requires_grad:\n",
    "            trainable_params += param.numel()\n",
    "    print(\n",
    "        f\"trainable params: {trainable_params} || all params: {all_param} || trainable%: {100 * trainable_params / all_param}\"\n",
    "    )\n",
    "\n",
    "\n",
    "print(\"plain\", print_trainable_parameters(model))"
   ]
  },
  {
   "cell_type": "markdown",
   "id": "3",
   "metadata": {},
   "source": [
    "### Load LoRA adapters from the hub"
   ]
  },
  {
   "cell_type": "code",
   "execution_count": null,
   "id": "4",
   "metadata": {},
   "outputs": [],
   "source": [
    "a1 = MambaForCausalLM.from_pretrained(\"mlsquare/exp-lora-ada-1\")\n",
    "a2 = MambaForCausalLM.from_pretrained(\"mlsquare/exp-lora-ada-2\")"
   ]
  },
  {
   "cell_type": "code",
   "execution_count": null,
   "id": "5",
   "metadata": {},
   "outputs": [],
   "source": [
    "a1.save_pretrained(\"./mbins/tmp/ada-1\")\n",
    "a2.save_pretrained(\"./mbins/tmp/ada-2\")"
   ]
  },
  {
   "cell_type": "markdown",
   "id": "6",
   "metadata": {},
   "source": [
    "### Average the adapters based on some weight\n",
    "do weighed mean of the adapters of the same type"
   ]
  },
  {
   "cell_type": "code",
   "execution_count": null,
   "id": "7",
   "metadata": {},
   "outputs": [],
   "source": [
    "from peft import PeftMixedModel, PeftModel\n",
    "\n",
    "base_model = MambaForCausalLM.from_pretrained(\"Q-bert/Mamba-130M\")\n",
    "print(\"base mamba\", print_trainable_parameters(base_model))\n",
    "peft_model = PeftModel.from_pretrained(base_model, \"./mbins/tmp/ada-1\", \"adapter1\")\n",
    "print(\"base mamba\", print_trainable_parameters(base_model))\n",
    "\n",
    "# note this is just a copy of adapter 1 (only syntax verification)\n",
    "peft_model.load_adapter(\"./mbins/tmp/ada-1\", \"adapter2\")\n",
    "print(\"two adapters loaded\", print_trainable_parameters(peft_model))\n",
    "\n",
    "# note this is just a copy of adapter 1 (only syntax verification)\n",
    "peft_model.load_adapter(\"./mbins/tmp/ada-1\", \"adapter3\")\n",
    "print(\"two adapters loaded\", print_trainable_parameters(peft_model))\n",
    "\n",
    "\n",
    "peft_model.add_weighted_adapter(\n",
    "    [\"adapter1\", \"adapter2\", \"adapter3\"],\n",
    "    [1.0, 1.0, 1.0],\n",
    "    combination_type=\"linear\",\n",
    "    adapter_name=\"merged\",\n",
    ")\n",
    "print(\"lora added\", print_trainable_parameters(peft_model))\n",
    "\n",
    "peft_model.delete_adapter(\"adapter1\")\n",
    "peft_model.delete_adapter(\"adapter2\")\n",
    "peft_model.delete_adapter(\"adapter3\")\n",
    "\n",
    "peft_model.merge_and_unload()\n",
    "print(\"merged mamba\", print_trainable_parameters(peft_model))"
   ]
  },
  {
   "cell_type": "code",
   "execution_count": null,
   "id": "8",
   "metadata": {},
   "outputs": [],
   "source": [
    "text = \"Hi\"\n",
    "input_ids = tokenizer.encode(text, return_tensors=\"pt\")\n",
    "output = peft_model.generate(input_ids=input_ids)\n",
    "generated_text = tokenizer.decode(output[0], skip_special_tokens=True)\n",
    "print(generated_text)"
   ]
  }
 ],
 "metadata": {
  "kernelspec": {
   "display_name": "shane",
   "language": "python",
   "name": "shane"
  }
 },
 "nbformat": 4,
 "nbformat_minor": 5
}
