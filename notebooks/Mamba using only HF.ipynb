{
 "cells": [
  {
   "cell_type": "code",
   "execution_count": null,
   "id": "0",
   "metadata": {},
   "outputs": [],
   "source": [
    "import torch\n",
    "from datasets import Dataset, load_dataset\n",
    "from transformers import AutoModelForSeq2SeqLM, AutoTokenizer\n",
    "\n",
    "dataset = load_dataset(\"ai4bharat/samanantar\", \"te\")\n",
    "tokenizer = AutoTokenizer.from_pretrained(\"google/byt5-small\")"
   ]
  },
  {
   "cell_type": "code",
   "execution_count": null,
   "id": "1",
   "metadata": {},
   "outputs": [],
   "source": [
    "dataset"
   ]
  },
  {
   "cell_type": "code",
   "execution_count": null,
   "id": "2",
   "metadata": {},
   "outputs": [],
   "source": [
    "from collections import defaultdict\n",
    "\n",
    "from datasets import Dataset\n",
    "from tqdm import tqdm\n",
    "\n",
    "\n",
    "def filter_streaming_dataset(dataset):\n",
    "    filtered_dict = defaultdict(list)\n",
    "    total = 0\n",
    "    for sample in tqdm(iter(dataset)):\n",
    "        total += 1\n",
    "        #         if total < 6:\n",
    "        #             print(sample)\n",
    "        if total < 1000:\n",
    "            filtered_dict[str(\"tgt\")].append(sample[\"tgt\"])\n",
    "        else:\n",
    "            break\n",
    "\n",
    "    #         if total == 6:\n",
    "    #             break\n",
    "    print(f\"{len(filtered_dict.keys())/total:.2%} of data after filtering.\")\n",
    "    #     print(filtered_dict)\n",
    "    return Dataset.from_dict(filtered_dict)\n",
    "\n",
    "\n",
    "#     return filtered_dict"
   ]
  },
  {
   "cell_type": "code",
   "execution_count": null,
   "id": "3",
   "metadata": {},
   "outputs": [],
   "source": [
    "from datasets import load_dataset\n",
    "\n",
    "filtered_ds = filter_streaming_dataset(dataset[\"train\"])"
   ]
  },
  {
   "cell_type": "code",
   "execution_count": null,
   "id": "4",
   "metadata": {},
   "outputs": [],
   "source": [
    "# Determine the number of samples for train and validation sets\n",
    "from datasets import Dataset, DatasetDict\n",
    "\n",
    "train_size = int(len(filtered_ds) * 0.8)  # 80% for training\n",
    "valid_size = len(filtered_ds) - train_size  # Remaining for validation\n",
    "\n",
    "# Split the dataset into train and validation sets\n",
    "ds_train = filtered_ds.select(list(range(train_size)))\n",
    "ds_valid = filtered_ds.select(list(range(train_size, train_size + valid_size)))\n",
    "\n",
    "# Create DatasetDict with train and validation sets\n",
    "raw_datasets = DatasetDict({\"train\": ds_train, \"valid\": ds_valid})"
   ]
  },
  {
   "cell_type": "code",
   "execution_count": null,
   "id": "5",
   "metadata": {},
   "outputs": [],
   "source": [
    "raw_datasets"
   ]
  },
  {
   "cell_type": "code",
   "execution_count": null,
   "id": "6",
   "metadata": {},
   "outputs": [],
   "source": [
    "def tokenize(element):\n",
    "    outputs = tokenizer(\n",
    "        element[\"tgt\"],\n",
    "        truncation=True,\n",
    "        max_length=128,\n",
    "        return_overflowing_tokens=True,\n",
    "        return_length=True,\n",
    "    )\n",
    "    input_batch = []\n",
    "    for length, input_ids in zip(outputs[\"length\"], outputs[\"input_ids\"]):\n",
    "        if length == 128:\n",
    "            input_batch.append(input_ids)\n",
    "    print(len(outputs[\"input_ids\"]))\n",
    "    return {\"input_ids\": input_batch}\n",
    "\n",
    "\n",
    "tokenized_datasets = raw_datasets.map(\n",
    "    tokenize, batched=True, remove_columns=raw_datasets[\"train\"].column_names\n",
    ")\n",
    "tokenized_datasets"
   ]
  },
  {
   "cell_type": "code",
   "execution_count": null,
   "id": "7",
   "metadata": {},
   "outputs": [],
   "source": [
    "cd src"
   ]
  },
  {
   "cell_type": "code",
   "execution_count": null,
   "id": "8",
   "metadata": {},
   "outputs": [],
   "source": [
    "import torch\n",
    "import torch.nn as nn\n",
    "import torch.nn.functional as F\n",
    "\n",
    "# from modeling_mamba import MambaForCausalLM\n",
    "# from transformers import AutoTokenizer\n",
    "# model = MambaForCausalLM.from_pretrained('Q-bert/Mamba-130M')\n",
    "# model.init_weights()\n",
    "from configuration_mamba import MambaConfig\n",
    "from modeling_mamba import MambaForCausalLM, MambaModel\n",
    "\n",
    "# Assuming the MambaConfig class is defined as provided\n",
    "# And assuming MambaModel and MambaForCausalLM classes are defined as per your initial code\n",
    "\n",
    "# Step 1: Create a MambaConfig instance with desired configurations\n",
    "config = MambaConfig(\n",
    "    vocab_size=512,  # Adjust vocab size as needed\n",
    "    d_model=256,  # Model dimension\n",
    "    d_conv=4,  # Convolution kernel size\n",
    "    expand=2,  # Expansion factor for inner dimension calculation\n",
    "    conv_bias=True,  # Whether to use bias in convolution layers\n",
    "    bias=False,  # Whether to use bias in other layers\n",
    "    n_layer=4,  # Number of layers in the model\n",
    "    dt_rank=\"auto\",  # Automatically determine dt_rank or set a specific integer value\n",
    "    pad_vocab_size_multiple=8,  # Ensure vocab size is a multiple of this value\n",
    "    initializer_range=0.02,  # Initializer range for model parameters\n",
    ")\n",
    "\n",
    "\n",
    "mamba_causal_lm = MambaForCausalLM(config)"
   ]
  },
  {
   "cell_type": "code",
   "execution_count": null,
   "id": "9",
   "metadata": {},
   "outputs": [],
   "source": [
    "from transformers import Trainer\n",
    "\n",
    "\n",
    "class MambaTrainer(Trainer):\n",
    "    def compute_loss(self, model, inputs, return_outputs=False):\n",
    "        #         print(inputs, \"HERE\")\n",
    "        #         print(inputs)\n",
    "        input_ids = inputs.pop(\"input_ids\")\n",
    "        #         print(\"INPUT IDs\", input_ids)\n",
    "        #         print(input_ids)\n",
    "        #         print(input_ids)\n",
    "        lm_logits = model(input_ids)[0]\n",
    "        #         print(lm_logits)\n",
    "        labels = input_ids.to(lm_logits.device)\n",
    "        shift_logits = lm_logits[:, :-1, :].contiguous()\n",
    "        labels = labels[:, 1:].contiguous()\n",
    "        #         print(\"LABELS: \", labels)\n",
    "        #         tokenizer.decode(lm_logits)\n",
    "        loss_fct = torch.nn.CrossEntropyLoss()\n",
    "        lm_loss = loss_fct(shift_logits.view(-1, shift_logits.size(-1)), labels.view(-1))\n",
    "        #         print(lm_loss)\n",
    "        return lm_loss"
   ]
  },
  {
   "cell_type": "code",
   "execution_count": null,
   "id": "10",
   "metadata": {},
   "outputs": [],
   "source": [
    "from transformers import Trainer, TrainingArguments\n",
    "\n",
    "torch.cuda.empty_cache()\n",
    "args = TrainingArguments(\n",
    "    output_dir=\"codeparrot-ds\",\n",
    "    per_device_train_batch_size=4,\n",
    "    per_device_eval_batch_size=1,\n",
    "    evaluation_strategy=\"steps\",\n",
    "    num_train_epochs=4,\n",
    "    weight_decay=0.1,\n",
    "    warmup_steps=1_000,\n",
    "    lr_scheduler_type=\"cosine\",\n",
    "    learning_rate=5e-4,\n",
    "    save_steps=5_000,\n",
    "    fp16=True,\n",
    ")\n",
    "\n",
    "trainer = MambaTrainer(\n",
    "    model=mamba_causal_lm,\n",
    "    tokenizer=tokenizer,\n",
    "    args=args,\n",
    "    train_dataset=tokenized_datasets[\"train\"],\n",
    "    eval_dataset=tokenized_datasets[\"valid\"],\n",
    ")"
   ]
  },
  {
   "cell_type": "code",
   "execution_count": null,
   "id": "11",
   "metadata": {},
   "outputs": [],
   "source": [
    "trainer.train()"
   ]
  },
  {
   "cell_type": "code",
   "execution_count": null,
   "id": "12",
   "metadata": {},
   "outputs": [],
   "source": []
  },
  {
   "cell_type": "code",
   "execution_count": null,
   "id": "13",
   "metadata": {},
   "outputs": [],
   "source": []
  }
 ],
 "metadata": {
  "kernelspec": {
   "display_name": "pose",
   "language": "python",
   "name": "pose"
  },
  "language_info": {
   "codemirror_mode": {
    "name": "ipython",
    "version": 3
   },
   "file_extension": ".py",
   "mimetype": "text/x-python",
   "name": "python",
   "nbconvert_exporter": "python",
   "pygments_lexer": "ipython3",
   "version": "3.10.12"
  }
 },
 "nbformat": 4,
 "nbformat_minor": 5
}
