{
 "cells": [
  {
   "cell_type": "markdown",
   "id": "0",
   "metadata": {},
   "source": [
    "### Load Pretrained Model\n",
    "Load a pretrained Mamba Model that is compatible with Transformers Library"
   ]
  },
  {
   "cell_type": "code",
   "execution_count": null,
   "id": "1",
   "metadata": {},
   "outputs": [],
   "source": [
    "from configuration_mamba import MambaConfig\n",
    "from modeling_mamba import MambaForCausalLM\n",
    "from transformers import AutoTokenizer\n",
    "\n",
    "config = MambaConfig(\n",
    "    vocab_size=10,\n",
    "    d_state=4,\n",
    "    d_model=6,\n",
    "    d_conv=4,\n",
    "    expand=2,\n",
    "    conv_bias=True,\n",
    "    bias=False,\n",
    "    n_layer=1,\n",
    ")\n",
    "model = MambaForCausalLM(config)\n",
    "print(model.config)"
   ]
  },
  {
   "cell_type": "code",
   "execution_count": null,
   "id": "2",
   "metadata": {},
   "outputs": [],
   "source": [
    "tokenizer = AutoTokenizer.from_pretrained(\"Q-bert/Mamba-130M\")\n",
    "text = \"Hi\"\n",
    "input_ids = tokenizer.encode(text, return_tensors=\"pt\")\n",
    "input_ids[[0]] = 0\n",
    "output = model.generate(input_ids, max_length=20, num_beams=5, no_repeat_ngram_size=2)\n",
    "generated_text = tokenizer.decode(output[0], skip_special_tokens=True)\n",
    "print(generated_text)"
   ]
  },
  {
   "cell_type": "code",
   "execution_count": null,
   "id": "3",
   "metadata": {},
   "outputs": [],
   "source": [
    "print(output)"
   ]
  },
  {
   "cell_type": "code",
   "execution_count": null,
   "id": "4",
   "metadata": {},
   "outputs": [],
   "source": [
    "print([(n, type(m)) for n, m in model.named_modules()])"
   ]
  },
  {
   "cell_type": "code",
   "execution_count": null,
   "id": "5",
   "metadata": {},
   "outputs": [],
   "source": [
    "print(type(model))\n",
    "\n",
    "\n",
    "def print_trainable_parameters(model):\n",
    "    \"\"\"\n",
    "    Prints the number of trainable parameters in the model.\n",
    "    \"\"\"\n",
    "    trainable_params = 0\n",
    "    all_param = 0\n",
    "    for _, param in model.named_parameters():\n",
    "        all_param += param.numel()\n",
    "        if param.requires_grad:\n",
    "            trainable_params += param.numel()\n",
    "    print(\n",
    "        f\"trainable params: {trainable_params} || all params: {all_param} || trainable%: {100 * trainable_params / all_param}\"\n",
    "    )\n",
    "\n",
    "\n",
    "print(\"plain\", print_trainable_parameters(model))"
   ]
  },
  {
   "cell_type": "code",
   "execution_count": null,
   "id": "6",
   "metadata": {},
   "outputs": [],
   "source": [
    "plist = model.state_dict().keys()\n",
    "for p in plist:\n",
    "    print(p)"
   ]
  },
  {
   "cell_type": "code",
   "execution_count": null,
   "id": "7",
   "metadata": {},
   "outputs": [],
   "source": [
    "# set one tensor to zero\n",
    "import torch\n",
    "\n",
    "\n",
    "def zero_init(model):\n",
    "    state_dict_before = model.state_dict()\n",
    "    state_dict_after = state_dict_before\n",
    "    for p in state_dict_before:\n",
    "        wt = state_dict_before[p]\n",
    "        state_dict_after[p] = torch.zeros_like(wt)\n",
    "    model.load_state_dict(state_dict_after)\n",
    "    return model\n",
    "\n",
    "\n",
    "s = \"model.layers.0.in_proj.weight\"\n",
    "print(\"before\", model.state_dict()[s])\n",
    "model = zero_init(model)\n",
    "plist = model.state_dict().keys()\n",
    "for p in plist:\n",
    "    print(p)\n",
    "print(\"after\", model.state_dict()[s])"
   ]
  },
  {
   "cell_type": "markdown",
   "id": "8",
   "metadata": {},
   "source": [
    "### Add LoRA adapters\n",
    "1. Identify a particular layer in the Mamba and add an LoRA layer there\n",
    "2. At this time, is only layer to verify if the code works\n"
   ]
  },
  {
   "cell_type": "code",
   "execution_count": null,
   "id": "9",
   "metadata": {},
   "outputs": [],
   "source": [
    "from peft import LoraConfig, TaskType\n",
    "\n",
    "target_modules = [\"model.layers.0.x_proj\"]\n",
    "\n",
    "config = LoraConfig(target_modules=target_modules, task_type=\"CAUSAL_LM\")"
   ]
  },
  {
   "cell_type": "code",
   "execution_count": null,
   "id": "10",
   "metadata": {},
   "outputs": [],
   "source": [
    "from peft import get_peft_model\n",
    "\n",
    "model = get_peft_model(model, config)\n",
    "model.print_trainable_parameters()"
   ]
  },
  {
   "cell_type": "code",
   "execution_count": null,
   "id": "11",
   "metadata": {},
   "outputs": [],
   "source": [
    "model.save_pretrained(\"wts\")"
   ]
  },
  {
   "cell_type": "markdown",
   "id": "12",
   "metadata": {},
   "source": [
    "### Merge the adpater into the Model\n",
    "merge the adapter back to the model, so the merged model will have exactly the same architecture\n",
    "except with the weights modified"
   ]
  },
  {
   "cell_type": "code",
   "execution_count": null,
   "id": "13",
   "metadata": {},
   "outputs": [],
   "source": [
    "from peft import PeftConfig, PeftModel\n",
    "\n",
    "adapter_path = \"./wts/\"\n",
    "adapter_config = PeftConfig.from_pretrained(adapter_path)\n",
    "\n",
    "\n",
    "config = MambaConfig(\n",
    "    vocab_size=10,\n",
    "    d_state=4,\n",
    "    d_model=6,\n",
    "    d_conv=4,\n",
    "    expand=2,\n",
    "    conv_bias=True,\n",
    "    bias=False,\n",
    "    n_layer=1,\n",
    ")\n",
    "\n",
    "model = MambaForCausalLM(config)\n",
    "base_model = MambaForCausalLM(config)\n",
    "# base_model = zero_init(base_model)\n",
    "\n",
    "adapted_model = PeftModel.from_pretrained(base_model, adapter_path)"
   ]
  },
  {
   "cell_type": "code",
   "execution_count": null,
   "id": "14",
   "metadata": {},
   "outputs": [],
   "source": [
    "m = adapted_model.merge_and_unload()"
   ]
  },
  {
   "cell_type": "code",
   "execution_count": null,
   "id": "15",
   "metadata": {},
   "outputs": [],
   "source": [
    "s = \"model.layers.0.x_proj.weight\"\n",
    "print(\"before LoRA\", base_model.state_dict()[s])\n",
    "\n",
    "plist = m.state_dict().keys()\n",
    "for p in plist:\n",
    "    print(p)\n",
    "print(\"after LoRA\", m.state_dict()[s])"
   ]
  },
  {
   "cell_type": "code",
   "execution_count": null,
   "id": "16",
   "metadata": {},
   "outputs": [],
   "source": [
    "text = \"Hi\"\n",
    "\n",
    "input_ids = tokenizer.encode(text, return_tensors=\"pt\")\n",
    "input_ids[[0]] = 0\n",
    "\n",
    "output = m.generate(input_ids, max_length=20, num_beams=5, no_repeat_ngram_size=2)\n",
    "\n",
    "generated_text = tokenizer.decode(output[0], skip_special_tokens=True)\n",
    "\n",
    "print(generated_text)"
   ]
  },
  {
   "cell_type": "code",
   "execution_count": null,
   "id": "17",
   "metadata": {},
   "outputs": [],
   "source": [
    "print(\"base mamba\", print_trainable_parameters(base_model))\n",
    "print(\"lora mamba\", print_trainable_parameters(model))\n",
    "print(\"merged mamba\", print_trainable_parameters(m))"
   ]
  },
  {
   "cell_type": "code",
   "execution_count": null,
   "id": "18",
   "metadata": {},
   "outputs": [],
   "source": [
    "m.save_pretrained(\"./mbins\", from_pt=True)"
   ]
  },
  {
   "cell_type": "code",
   "execution_count": null,
   "id": "19",
   "metadata": {},
   "outputs": [],
   "source": [
    "import torch\n",
    "\n",
    "torch.save(m, \"./mbins/merged_mamba.pt\")"
   ]
  },
  {
   "cell_type": "code",
   "execution_count": null,
   "id": "20",
   "metadata": {},
   "outputs": [],
   "source": [
    "torch.save(base_model, \"./mbins/base_mamba.pt\")"
   ]
  },
  {
   "cell_type": "code",
   "execution_count": null,
   "id": "21",
   "metadata": {},
   "outputs": [],
   "source": [
    "adapted_model.state_dict().keys()"
   ]
  },
  {
   "cell_type": "code",
   "execution_count": null,
   "id": "22",
   "metadata": {},
   "outputs": [],
   "source": [
    "adapter_config"
   ]
  },
  {
   "cell_type": "code",
   "execution_count": null,
   "id": "23",
   "metadata": {},
   "outputs": [],
   "source": [
    "for p in adapted_model.named_parameters():\n",
    "    print(p)"
   ]
  },
  {
   "cell_type": "code",
   "execution_count": null,
   "id": "24",
   "metadata": {},
   "outputs": [],
   "source": []
  }
 ],
 "metadata": {
  "kernelspec": {
   "display_name": "shane",
   "language": "python",
   "name": "shane"
  }
 },
 "nbformat": 4,
 "nbformat_minor": 5
}
