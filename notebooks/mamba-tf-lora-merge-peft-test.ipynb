{
 "cells": [
  {
   "cell_type": "markdown",
   "id": "0",
   "metadata": {},
   "source": [
    "### Load Pretrained Model\n",
    "Load a pretrained Mamba Model that is compatible with Transformers Library"
   ]
  },
  {
   "cell_type": "code",
   "execution_count": null,
   "id": "1",
   "metadata": {},
   "outputs": [],
   "source": [
    "from modeling_mamba import MambaForCausalLM\n",
    "from transformers import AutoTokenizer\n",
    "\n",
    "model = MambaForCausalLM.from_pretrained(\"Q-bert/Mamba-130M\")\n",
    "tokenizer = AutoTokenizer.from_pretrained(\"Q-bert/Mamba-130M\")\n",
    "\n",
    "text = \"Hi\"\n",
    "\n",
    "input_ids = tokenizer.encode(text, return_tensors=\"pt\")\n",
    "\n",
    "output = model.generate(input_ids, max_length=20, num_beams=5, no_repeat_ngram_size=2)\n",
    "\n",
    "generated_text = tokenizer.decode(output[0], skip_special_tokens=True)\n",
    "\n",
    "print(generated_text)"
   ]
  },
  {
   "cell_type": "code",
   "execution_count": null,
   "id": "2",
   "metadata": {},
   "outputs": [],
   "source": [
    "print([(n, type(m)) for n, m in model.named_modules()])"
   ]
  },
  {
   "cell_type": "code",
   "execution_count": null,
   "id": "3",
   "metadata": {},
   "outputs": [],
   "source": [
    "print(type(model))\n",
    "\n",
    "\n",
    "def print_trainable_parameters(model):\n",
    "    \"\"\"\n",
    "    Prints the number of trainable parameters in the model.\n",
    "    \"\"\"\n",
    "    trainable_params = 0\n",
    "    all_param = 0\n",
    "    for _, param in model.named_parameters():\n",
    "        all_param += param.numel()\n",
    "        if param.requires_grad:\n",
    "            trainable_params += param.numel()\n",
    "    print(\n",
    "        f\"trainable params: {trainable_params} || all params: {all_param} || trainable%: {100 * trainable_params / all_param}\"\n",
    "    )\n",
    "\n",
    "\n",
    "print(\"plain\", print_trainable_parameters(model))"
   ]
  },
  {
   "cell_type": "markdown",
   "id": "4",
   "metadata": {},
   "source": [
    "### Add LoRA adapters\n",
    "1. Identify a particular layer in the Mamba and add an LoRA layer there\n",
    "2. At this time, is only layer to verify if the code works\n"
   ]
  },
  {
   "cell_type": "code",
   "execution_count": null,
   "id": "5",
   "metadata": {},
   "outputs": [],
   "source": [
    "# adapter-1\n",
    "from peft import LoraConfig, TaskType, get_peft_model\n",
    "\n",
    "target_modules = [\"model.layers.3.x_proj\"]\n",
    "\n",
    "model = MambaForCausalLM.from_pretrained(\"Q-bert/Mamba-130M\")\n",
    "\n",
    "config = LoraConfig(target_modules=target_modules, task_type=\"CAUSAL_LM\")\n",
    "m1 = get_peft_model(model, config)\n",
    "m1.print_trainable_parameters()\n",
    "m1.save_pretrained(\"./wts/ada-1\")"
   ]
  },
  {
   "cell_type": "code",
   "execution_count": null,
   "id": "6",
   "metadata": {},
   "outputs": [],
   "source": [
    "# adapter-2\n",
    "from peft import LoraConfig, TaskType, get_peft_model\n",
    "\n",
    "target_modules = [\"model.layers.2.x_proj\"]\n",
    "model = MambaForCausalLM.from_pretrained(\"Q-bert/Mamba-130M\")\n",
    "\n",
    "config = LoraConfig(target_modules=target_modules, task_type=\"CAUSAL_LM\")\n",
    "m2 = get_peft_model(model, config)\n",
    "m2.print_trainable_parameters()\n",
    "m2.save_pretrained(\"./wts/ada-2\")"
   ]
  },
  {
   "cell_type": "markdown",
   "id": "7",
   "metadata": {},
   "source": [
    "### Merge the adpater into the Model\n",
    "merge the adapter back to the model, so the merged model will have exactly the same architecture\n",
    "except with the weights modified"
   ]
  },
  {
   "cell_type": "code",
   "execution_count": null,
   "id": "8",
   "metadata": {},
   "outputs": [],
   "source": [
    "# https://stackoverflow.com/questions/77596271/i-want-to-merge-my-peft-adapter-model-with-the-base-model-and-make-a-fully-new-m\n",
    "\n",
    "# from peft import PeftConfig, PeftModel\n",
    "# base_model = MambaForCausalLM.from_pretrained('Q-bert/Mamba-130M')\n",
    "# adapter_path = './wts/ada-1'\n",
    "# m1 = PeftModel.from_pretrained(base_model, adapter_path)"
   ]
  },
  {
   "cell_type": "code",
   "execution_count": null,
   "id": "9",
   "metadata": {},
   "outputs": [],
   "source": [
    "# https://github.com/huggingface/peft\n",
    "from peft import PeftMixedModel\n",
    "\n",
    "base_model = MambaForCausalLM.from_pretrained(\"Q-bert/Mamba-130M\")\n",
    "print(\"base mamba\", print_trainable_parameters(base_model))\n",
    "peft_model = PeftMixedModel.from_pretrained(base_model, adapter_path, \"adapter1\")\n",
    "print(\"base mamba\", print_trainable_parameters(base_model))\n",
    "peft_model.load_adapter(\"./wts/ada-2\", \"adapter2\")\n",
    "peft_model.set_adapter([\"adapter1\", \"adapter2\"])\n",
    "print(\"base mamba\", print_trainable_parameters(base_model))\n",
    "\n",
    "output = peft_model.generate(\n",
    "    input_ids, max_length=20, num_beams=5, no_repeat_ngram_size=2\n",
    ")\n",
    "generated_text = tokenizer.decode(output[0], skip_special_tokens=True)\n",
    "print(generated_text)"
   ]
  },
  {
   "cell_type": "code",
   "execution_count": null,
   "id": "10",
   "metadata": {},
   "outputs": [],
   "source": [
    "# createa combined fed model\n",
    "peft_model.merge_and_unload()\n",
    "peft_model.base_model.save_pretrained(\"./mbins/fed-lora/\")"
   ]
  },
  {
   "cell_type": "code",
   "execution_count": null,
   "id": "11",
   "metadata": {},
   "outputs": [],
   "source": []
  }
 ],
 "metadata": {
  "kernelspec": {
   "display_name": "shane",
   "language": "python",
   "name": "shane"
  }
 },
 "nbformat": 4,
 "nbformat_minor": 5
}
